{
 "cells": [
  {
   "cell_type": "code",
   "execution_count": 3,
   "metadata": {},
   "outputs": [],
   "source": [
    "import zipfile\n",
    "with zipfile.ZipFile('/home/dcorrea/deconvolution/data/tubes.zip', 'r') as zip_ref:\n",
    "    zip_ref.extractall('/home/dcorrea/deconvolution/data/tubes')\n"
   ]
  }
 ],
 "metadata": {
  "kernelspec": {
   "display_name": "Python (deconvolution)",
   "language": "python",
   "name": "deconvolution"
  },
  "language_info": {
   "codemirror_mode": {
    "name": "ipython",
    "version": 3
   },
   "file_extension": ".py",
   "mimetype": "text/x-python",
   "name": "python",
   "nbconvert_exporter": "python",
   "pygments_lexer": "ipython3",
   "version": "3.9.21"
  }
 },
 "nbformat": 4,
 "nbformat_minor": 2
}
