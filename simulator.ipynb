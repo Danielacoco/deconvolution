{
 "cells": [
  {
   "cell_type": "code",
   "execution_count": 1,
   "metadata": {},
   "outputs": [],
   "source": [
    "import simulator\n",
    "%matplotlib inline\n",
    "import matplotlib.pyplot as plt\n",
    "import numpy as np\n",
    "from psf_generator import ScalarSphericalPropagator\n",
    "\n"
   ]
  },
  {
   "cell_type": "code",
   "execution_count": null,
   "metadata": {},
   "outputs": [],
   "source": [
    "# Create dummy data\n",
    "data = np.zeros((50, 50, 50))\n",
    "data[25, 25, 25] = 1.0\n",
    "\n"
   ]
  },
  {
   "cell_type": "code",
   "execution_count": null,
   "metadata": {},
   "outputs": [],
   "source": [
    "# Generate PSF using the PSF generator (without padding)\n",
    "kwargs = {\n",
    "    'n_pix_pupil': 127,\n",
    "    'n_pix_psf': 256,\n",
    "    'na': 1.3,\n",
    "    'wavelength': 480,\n",
    "    'fov': 25600,\n",
    "    'defocus_min': -5000,\n",
    "    'defocus_max': 5000,\n",
    "    'n_defocus': 101,\n",
    "}\n",
    "propagator = ScalarSphericalPropagator(**kwargs)\n",
    "focus_field = propagator.compute_focus_field()\n",
    "psf = np.abs(focus_field).squeeze()**2\n",
    "\n"
   ]
  },
  {
   "cell_type": "code",
   "execution_count": null,
   "metadata": {},
   "outputs": [],
   "source": [
    "# Optionally, pad the PSF to match data dimensions\n",
    "psf_padded = simulator.pad_kernel(psf, data.shape)\n",
    "\n",
    "\n",
    "\n"
   ]
  },
  {
   "cell_type": "code",
   "execution_count": null,
   "metadata": {},
   "outputs": [],
   "source": [
    "# Set noise parameters\n",
    "sigma_g = 0.05\n",
    "alpha_p = 100.0"
   ]
  },
  {
   "cell_type": "code",
   "execution_count": null,
   "metadata": {},
   "outputs": [],
   "source": [
    "\n",
    "# Run simulation\n",
    "simulated_image = simulator.simulate_microscopy_image(data, psf_padded, sigma_g, alpha_p)\n",
    "\n",
    "# Visualize a middle slice\n",
    "slice_index = simulated_image.shape[0] // 2\n",
    "plt.imshow(simulated_image[slice_index, :, :], cmap='gray')\n",
    "plt.title(f\"Simulated Image (Slice at index {slice_index})\")\n",
    "plt.colorbar()\n",
    "plt.show()"
   ]
  }
 ],
 "metadata": {
  "kernelspec": {
   "display_name": "Python (deconvolution)",
   "language": "python",
   "name": "deconvolution"
  },
  "language_info": {
   "codemirror_mode": {
    "name": "ipython",
    "version": 3
   },
   "file_extension": ".py",
   "mimetype": "text/x-python",
   "name": "python",
   "nbconvert_exporter": "python",
   "pygments_lexer": "ipython3",
   "version": "3.9.21"
  }
 },
 "nbformat": 4,
 "nbformat_minor": 2
}
