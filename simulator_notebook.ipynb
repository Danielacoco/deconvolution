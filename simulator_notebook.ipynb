{
 "cells": [
  {
   "cell_type": "markdown",
   "metadata": {},
   "source": [
    "## JUST A PLAYGROUND FOR NOW TODO:CLEAN UP"
   ]
  },
  {
   "cell_type": "code",
   "execution_count": null,
   "metadata": {},
   "outputs": [],
   "source": [
    "from simulator import *\n",
    "%matplotlib inline\n",
    "import math\n"
   ]
  },
  {
   "cell_type": "code",
   "execution_count": null,
   "metadata": {},
   "outputs": [
    {
     "name": "stdout",
     "output_type": "stream",
     "text": [
      "Dimensions of the OME-TIFF file: (30, 256, 256)\n"
     ]
    }
   ],
   "source": [
    "import tifffile\n",
    "\n",
    "file_path = '/home/dcorrea/deconvolution/data/tubes/tubes/sample_24.ome.tif'\n",
    "with tifffile.TiffFile(file_path) as tif:\n",
    "  data = tif.asarray()\n",
    "\n",
    "print(\"Dimensions of the OME-TIFF file:\", data.shape)"
   ]
  },
  {
   "cell_type": "code",
   "execution_count": 23,
   "metadata": {},
   "outputs": [
    {
     "name": "stdout",
     "output_type": "stream",
     "text": [
      "Dimensions of the PSF: (101, 256, 256)\n"
     ]
    }
   ],
   "source": [
    "psf = load_data('/home/dcorrea/deconvolution/psf/psf_simple.npy')\n",
    "print(\"Dimensions of the PSF:\", psf.shape)\n"
   ]
  },
  {
   "cell_type": "code",
   "execution_count": null,
   "metadata": {},
   "outputs": [],
   "source": [
    "# Optionally, pad the PSF to match data dimensions\n",
    "psf_padded = pad_kernel(psf, data.shape)\n",
    "\n"
   ]
  },
  {
   "cell_type": "code",
   "execution_count": null,
   "metadata": {},
   "outputs": [],
   "source": [
    "# Set noise parameters\n",
    "sigma_g = 0.05\n",
    "alpha_p = 100.0"
   ]
  },
  {
   "cell_type": "code",
   "execution_count": null,
   "metadata": {},
   "outputs": [],
   "source": [
    "\n",
    "# Run simulation\n",
    "simulated_image = simulate_microscopy_image(data, psf_padded, sigma_g, alpha_p)\n",
    "\n",
    "# Visualize a middle slice\n",
    "slice_index = simulated_image.shape[0] // 2\n",
    "plt.imshow(simulated_image[slice_index, :, :], cmap='gray')\n",
    "plt.title(f\"Simulated Image (Slice at index {slice_index})\")\n",
    "plt.colorbar()\n",
    "plt.show()"
   ]
  }
 ],
 "metadata": {
  "kernelspec": {
   "display_name": "Python (deconvolution)",
   "language": "python",
   "name": "deconvolution"
  },
  "language_info": {
   "codemirror_mode": {
    "name": "ipython",
    "version": 3
   },
   "file_extension": ".py",
   "mimetype": "text/x-python",
   "name": "python",
   "nbconvert_exporter": "python",
   "pygments_lexer": "ipython3",
   "version": "3.9.21"
  }
 },
 "nbformat": 4,
 "nbformat_minor": 2
}
