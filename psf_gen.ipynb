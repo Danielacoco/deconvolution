{
 "cells": [
  {
   "cell_type": "markdown",
   "metadata": {},
   "source": [
    "## Notebook to test PSF generator and aslo save PSFs to use for the simulator"
   ]
  },
  {
   "cell_type": "code",
   "execution_count": 1,
   "metadata": {},
   "outputs": [],
   "source": [
    "import psf_generator as psf\n",
    "import numpy as np\n",
    "from psf_generator import ScalarSphericalPropagator"
   ]
  },
  {
   "cell_type": "code",
   "execution_count": 2,
   "metadata": {},
   "outputs": [
    {
     "name": "stderr",
     "output_type": "stream",
     "text": [
      "/tmp/ipykernel_1188464/2851805753.py:14: DeprecationWarning: __array_wrap__ must accept context and return_scalar arguments (positionally) in the future. (Deprecated NumPy 2.0)\n",
      "  psf = np.abs(focus_field).squeeze()**2\n"
     ]
    }
   ],
   "source": [
    "kwargs = {\n",
    "    'n_pix_pupil': 127,    # Number of pixels for the pupil function\n",
    "    'n_pix_psf': 256,      # Number of pixels for the PSF\n",
    "    'na': 1.3,             # Higher numerical aperture (NA)\n",
    "    'wavelength': 480,     # Shorter wavelength (in nm)\n",
    "    'fov': 25600,           # Field of view (in nm)\n",
    "    'defocus_min': -5000,  # Minimum defocus (nm)\n",
    "    'defocus_max': 5000,   # Maximum defocus (nm)\n",
    "    'n_defocus': 101,      # Number of defocus slices\n",
    "}\n",
    "propagator = ScalarSphericalPropagator(**kwargs)\n",
    "focus_field = propagator.compute_focus_field()\n",
    "\n",
    "psf = np.abs(focus_field).squeeze()**2\n"
   ]
  },
  {
   "cell_type": "code",
   "execution_count": 5,
   "metadata": {},
   "outputs": [
    {
     "data": {
      "text/plain": [
       "torch.Size([101, 256, 256])"
      ]
     },
     "execution_count": 5,
     "metadata": {},
     "output_type": "execute_result"
    }
   ],
   "source": [
    "psf.shape"
   ]
  },
  {
   "cell_type": "code",
   "execution_count": 8,
   "metadata": {},
   "outputs": [
    {
     "data": {
      "text/plain": [
       "'/home/dcorrea/deconvolution'"
      ]
     },
     "execution_count": 8,
     "metadata": {},
     "output_type": "execute_result"
    }
   ],
   "source": [
    "pwd"
   ]
  },
  {
   "cell_type": "code",
   "execution_count": 9,
   "metadata": {},
   "outputs": [],
   "source": [
    "#convert to nupy array\n",
    "npy_psf = np.array(psf)\n",
    "\n",
    "#save to file\n",
    "np.save('/home/dcorrea/deconvolution/psf/psf_simple.npy', npy_psf) \n"
   ]
  },
  {
   "cell_type": "code",
   "execution_count": null,
   "metadata": {},
   "outputs": [],
   "source": []
  }
 ],
 "metadata": {
  "kernelspec": {
   "display_name": "Python (deconvolution)",
   "language": "python",
   "name": "deconvolution"
  },
  "language_info": {
   "codemirror_mode": {
    "name": "ipython",
    "version": 3
   },
   "file_extension": ".py",
   "mimetype": "text/x-python",
   "name": "python",
   "nbconvert_exporter": "python",
   "pygments_lexer": "ipython3",
   "version": "3.9.21"
  }
 },
 "nbformat": 4,
 "nbformat_minor": 2
}
